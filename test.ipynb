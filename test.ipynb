{
 "cells": [
  {
   "cell_type": "code",
   "execution_count": 2,
   "metadata": {},
   "outputs": [],
   "source": [
    "import numpy as np\n",
    "from scipy.spatial.transform import Rotation as R"
   ]
  },
  {
   "cell_type": "code",
   "execution_count": null,
   "metadata": {},
   "outputs": [],
   "source": [
    "# 0.707107i + 0.707107j + 4.32978e-17k + 4.32978e-17"
   ]
  },
  {
   "cell_type": "code",
   "execution_count": 7,
   "metadata": {},
   "outputs": [
    {
     "name": "stdout",
     "output_type": "stream",
     "text": [
      "[-1.27315540e-04 -2.02617728e-04 -7.07106770e-01 -7.07106752e-01]\n"
     ]
    }
   ],
   "source": [
    "\n",
    "# NED_ENU_Q : 0.707107i + 0.707107j + 4.32978e-17k + 4.32978e-17\n",
    "# AIRCRAFT_BASELINK_Q : 1i + 0j + 0k + 6.12323e-17\n",
    "# (NED_ENU_Q * quat_in) = 1.13137i + -0.141421j + -0.00700036k + -0.00714178\n",
    "def rotate_quaternion_fromTo_ENU_NED(quat_in):\n",
    "    # Static quaternion needed for rotating between ENU and NED frames\n",
    "    euler_1 = np.array([np.pi, 0.0, np.pi/2])  # Roll, Pitch, Yaw in radians\n",
    "    NED_ENU_Q = R.from_euler('xyz', euler_1).as_quat()  # Convert to quaternion [x, y, z, w]\n",
    "    \n",
    "    # Static quaternion needed for rotating between aircraft and base_link frames\n",
    "    euler_2 = np.array([np.pi, 0.0, 0.0])  # Roll, Pitch, Yaw in radians\n",
    "    AIRCRAFT_BASELINK_Q = R.from_euler('xyz', euler_2).as_quat()  # Convert to quaternion [x, y, z, w]\n",
    "\n",
    "    # Convert input quaternion to scipy Rotation\n",
    "    quat_in = np.roll(quat_in, -1)\n",
    "    quat_in_rot = R.from_quat(quat_in)  # Input quaternion as [x, y, z, w]\n",
    "\n",
    "    # Apply the rotations\n",
    "    ned_enu_rot = R.from_quat(NED_ENU_Q)\n",
    "    aircraft_baselink_rot = R.from_quat(AIRCRAFT_BASELINK_Q)\n",
    "\n",
    "    # Final quaternion\n",
    "    rotated_quat = ((ned_enu_rot * quat_in_rot) * aircraft_baselink_rot).as_quat()\n",
    "    \n",
    "    print(rotated_quat)\n",
    "\n",
    "quat_in = np.array([ 2.33298051e-04 ,-5.32466883e-05, -1.24223489e-08,  9.99999971e-01])\n",
    "quat_in = np.roll(quat_in, 1)\n",
    "# a = rotate_quaternion_fromTo_ENU_NED(quat_in)\n",
    "rotate_quaternion_fromTo_ENU_NED(quat_in)"
   ]
  },
  {
   "cell_type": "code",
   "execution_count": null,
   "metadata": {},
   "outputs": [
    {
     "data": {
      "text/plain": [
       "array([ 0.00613948, -0.00626351, -0.12402996,  0.99223971])"
      ]
     },
     "execution_count": 73,
     "metadata": {},
     "output_type": "execute_result"
    }
   ],
   "source": [
    "# import numpy as np\n",
    "# from scipy.spatial.transform import Rotation as R\n",
    "\n",
    "# def rotate_quaternion_from_to_enu_ned(quat_in):\n",
    "#     \"\"\"\n",
    "#     Rotate a quaternion from ENU to NED frame and adjust for aircraft-baselink transformation.\n",
    "    \n",
    "#     Parameters:\n",
    "#         quat_in (np.ndarray): Input quaternion in the format [w, x, y, z].\n",
    "        \n",
    "#     Returns:\n",
    "#         np.ndarray: Rotated quaternion in the format [w, x, y, z].\n",
    "#     \"\"\"\n",
    "#     # Static quaternion needed for rotating between ENU and NED frames\n",
    "#     euler_1 = np.array([np.pi, 0.0, np.pi / 2])  # [roll, pitch, yaw] in radians\n",
    "#     ned_enu_q = R.from_euler('zyx', euler_1).as_quat()  # Converts to [x, y, z, w]\n",
    "\n",
    "#     # Static quaternion needed for rotating between aircraft and base_link frames\n",
    "#     euler_2 = np.array([np.pi, 0.0, 0.0])  # [roll, pitch, yaw] in radians\n",
    "#     aircraft_baselink_q = R.from_euler('zyx', euler_2).as_quat()  # Converts to [x, y, z, w]\n",
    "\n",
    "#     # Convert input quaternion to scipy Rotation object\n",
    "#     quat_in_rot = R.from_quat(quat_in)  # scipy expects [x, y, z, w]\n",
    "\n",
    "#     # Apply rotations\n",
    "#     ned_enu_rot = R.from_quat(ned_enu_q)\n",
    "#     aircraft_baselink_rot = R.from_quat(aircraft_baselink_q)\n",
    "#     result_rot = ned_enu_rot * quat_in_rot\n",
    "\n",
    "#     # Convert result to [w, x, y, z] format\n",
    "#     result_quat = result_rot.as_quat()  # [x, y, z, w]\n",
    "#     return np.array([result_quat[3], result_quat[0], result_quat[1], result_quat[2]])\n",
    "# # (NED_ENU_Q * quat_in) = 1.13137i + -0.141421j + -0.00700036k + -0.00714178\n",
    "# rotate_quaternion_from_to_enu_ned(np.array([0.7, 0.01, 0.0001, 0.9]))\n"
   ]
  },
  {
   "cell_type": "code",
   "execution_count": 100,
   "metadata": {},
   "outputs": [
    {
     "name": "stdout",
     "output_type": "stream",
     "text": [
      "[5 6 7 8]\n"
     ]
    }
   ],
   "source": [
    "# importing numpy as geek \n",
    "import numpy as geek\n",
    " \n",
    "arr = geek.array([[5, 6, 7, 8]])\n",
    " \n",
    "gfg = arr.flatten('F')\n",
    " \n",
    "print( gfg )"
   ]
  },
  {
   "cell_type": "code",
   "execution_count": 77,
   "metadata": {},
   "outputs": [
    {
     "name": "stdout",
     "output_type": "stream",
     "text": [
      "Rotated quaternion: [-1.         -2.         -2.29289322 -4.70710678]\n"
     ]
    }
   ],
   "source": [
    "import numpy as np\n",
    "from scipy.spatial.transform import Rotation as R\n",
    "\n",
    "def rotate_quaternion_FromTo_ENU_NED(quat_in):\n",
    "    \"\"\"\n",
    "    Rotate a quaternion between ENU and NED frames and also between aircraft and base_link frames.\n",
    "\n",
    "    Parameters:\n",
    "        quat_in: Input quaternion as a numpy array [x, y, z, w]\n",
    "\n",
    "    Returns:\n",
    "        Rotated quaternion as a numpy array [x, y, z, w]\n",
    "    \"\"\"\n",
    "    # Static quaternion needed for rotating between ENU and NED frames\n",
    "    euler_1 = np.array([np.pi, 0.0, np.pi/2])  # Roll, Pitch, Yaw in radians\n",
    "    NED_ENU_Q = R.from_euler('zyx', euler_1[::-1]).as_quat()  # Convert to quaternion [x, y, z, w]\n",
    "\n",
    "    # Static quaternion needed for rotating between aircraft and base_link frames\n",
    "    euler_2 = np.array([np.pi, 0.0, 0.0])  # Roll, Pitch, Yaw in radians\n",
    "    AIRCRAFT_BASELINK_Q = R.from_euler('zyx', euler_2[::-1]).as_quat()  # Convert to quaternion [x, y, z, w]\n",
    "\n",
    "    # Convert input quaternion to scipy Rotation\n",
    "    quat_in_rot = R.from_quat(quat_in)  # Input quaternion as [x, y, z, w]\n",
    "\n",
    "    # Apply the rotations\n",
    "    ned_enu_rot = R.from_quat(NED_ENU_Q)\n",
    "    aircraft_baselink_rot = R.from_quat(AIRCRAFT_BASELINK_Q)\n",
    "\n",
    "    # Final quaternion\n",
    "    rotated_quat = (ned_enu_rot * quat_in_rot * aircraft_baselink_rot).as_quat()\n",
    "\n",
    "    return rotated_quat\n",
    "\n",
    "# Example usage:\n",
    "quat_in = np.array([0.0, 0.0, 0.0, 1.0])  # Example input quaternion [x, y, z, w]\n",
    "result = rotate_quaternion_FromTo_ENU_NED(quat_in)\n",
    "arr = np.array([1,2,3,4])\n",
    "print(\"Rotated quaternion:\", result-arr)\n"
   ]
  },
  {
   "cell_type": "code",
   "execution_count": 13,
   "metadata": {},
   "outputs": [
    {
     "name": "stdout",
     "output_type": "stream",
     "text": [
      "0.7071067811865475\n",
      "hi [[0. 0. 0. 0.]\n",
      " [0. 0. 0. 0.]\n",
      " [0. 0. 0. 0.]\n",
      " [0. 0. 0. 0.]]\n"
     ]
    }
   ],
   "source": [
    "k_deg_to_rad = np.pi / 180.0\n",
    "kS = np.sin(k_deg_to_rad * 45)\n",
    "print(kS)\n",
    "rotor_velocities_to_torques_and_thrust = np.array([[-kS, kS, kS, -kS],[-kS, kS, -kS, kS],[-1, -1, 1, 1],[1, 1, 1, 1]])\n",
    "\n",
    "np.zeros((4,4))\n",
    "print(\"hi\", np.zeros((4,4)))\n"
   ]
  },
  {
   "cell_type": "code",
   "execution_count": null,
   "metadata": {},
   "outputs": [],
   "source": []
  },
  {
   "cell_type": "code",
   "execution_count": null,
   "metadata": {},
   "outputs": [
    {
     "name": "stdout",
     "output_type": "stream",
     "text": [
      "[0. 0. 0.]\n",
      "0.0\n",
      "[0. 0. 0. 0.]\n"
     ]
    }
   ],
   "source": [
    "from scipy.spatial.transform import Rotation as R\n",
    "import numpy as np\n",
    "position_W_ = np.zeros(3)\n",
    "velocity_W_ = np.zeros(3)\n",
    "\n",
    "r_position_W_ = np.zeros(3)\n",
    "r_velocity_W_ = np.zeros(3)\n",
    "r_acceleration_W_ = np.zeros(3)\n",
    "\n",
    "position_gain_ = np.zeros(3)\n",
    "velocity_gain_ = np.zeros(3)\n",
    "attitude_gain_ = np.zeros(3)\n",
    "angular_rate_gain_ = np.zeros(3)\n",
    "\n",
    "_inertia_matrix = np.zeros(3)\n",
    "\n",
    "angular_velocity_B_ = np.zeros(3)\n",
    "\n",
    "R_B_W_ = np.zeros((3,3))\n",
    "\n",
    "r_yaw = 0.0\n",
    "r_yaw_rate = 0.0\n",
    "\n",
    "_uav_mass = 1.0\n",
    "_gravity = 9.8\n",
    "\n",
    "\n",
    "e_p = position_W_ - r_position_W_\n",
    "# \t1.2 The tracking errors for the velocity\n",
    "# \tvelocity_W_: vận tốc thực tế, r_velocity_W_ : vận tốc mong muốn\n",
    "e_v = velocity_W_ - r_velocity_W_\n",
    "\n",
    "# 2. caculate Iad: gia tốc mong muốn\n",
    "unit_z = np.array([0, 0, 1])\n",
    "I_a_d = (_uav_mass * _gravity * unit_z \n",
    "        - np.multiply(position_gain_, e_p) \n",
    "        - np.multiply(velocity_gain_, e_v)\n",
    "        + _uav_mass * r_acceleration_W_)\n",
    "\n",
    "# 3. lực đẩy T\n",
    "thrust = I_a_d @ R_B_W_[:, 2]\n",
    "\n",
    "# 4. Bzd\n",
    "B_z_d = I_a_d / np.linalg.norm(I_a_d)\n",
    "\n",
    "# 5. Calculate Desired Rotational Matrix\n",
    "#  5.1 Bxd (do Bdx và Bdz ta cần chọn cho hai thằng này không song song)\n",
    "B_x_d = np.array([np.cos(r_yaw), np.sin(r_yaw), 0.0])\n",
    "#  5.1 Byd (từ Bzd and Bxd)\n",
    "B_y_d = np.cross(B_z_d, B_x_d)  # Compute the cross product of B_z_d and B_x_d\n",
    "B_y_d = B_y_d / np.linalg.norm(B_y_d)  # Normalize B_y_d\n",
    "\n",
    "\n",
    "\n",
    "#  5.2 Rdw\n",
    "# Assuming B_y_d and B_z_d are already defined\n",
    "R_d_w = np.zeros((3, 3))  # Initialize a 3x3 matrix\n",
    "\n",
    "# Fill columns of R_d_w\n",
    "R_d_w[:, 0] = np.cross(B_y_d, B_z_d)  # First column\n",
    "R_d_w[:, 1] = B_y_d                  # Second column\n",
    "R_d_w[:, 2] = B_z_d                  # Third column\n",
    "\n",
    "desired_quaternion = R.from_matrix(R_d_w).as_quat()\n",
    "\n",
    "# \t6. the attitude tracking error eR\n",
    "e_R_matrix = 0.5 * (R_d_w.T @ R_B_W_ - R_B_W_.T @ R_d_w)\n",
    "\n",
    "e_R = np.array([ e_R_matrix[2, 1], e_R_matrix[0, 2], e_R_matrix[1, 0]])\n",
    "\n",
    "\n",
    "# \t7.  the tracking error for the angular velocity e_omega\n",
    "omega_ref = r_yaw_rate * unit_z\n",
    "e_omega = angular_velocity_B_ - R_B_W_.T @ R_d_w @ omega_ref\n",
    "\n",
    "# 8. Moment T (Attitude tracking)\n",
    "tau = (\n",
    "- np.multiply(attitude_gain_, e_R)  # Element-wise product\n",
    "- np.multiply(angular_rate_gain_, e_omega)  # Element-wise product\n",
    "+ np.cross(angular_velocity_B_, _inertia_matrix * angular_velocity_B_)\n",
    ")\n",
    "# Output the wrench\n",
    "controller_torque_thrust = np.hstack((tau, thrust))"
   ]
  }
 ],
 "metadata": {
  "kernelspec": {
   "display_name": "usr",
   "language": "python",
   "name": "python3"
  },
  "language_info": {
   "codemirror_mode": {
    "name": "ipython",
    "version": 3
   },
   "file_extension": ".py",
   "mimetype": "text/x-python",
   "name": "python",
   "nbconvert_exporter": "python",
   "pygments_lexer": "ipython3",
   "version": "3.10.12"
  }
 },
 "nbformat": 4,
 "nbformat_minor": 2
}
